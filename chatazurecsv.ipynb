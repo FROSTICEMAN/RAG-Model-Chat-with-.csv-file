{
 "cells": [
  {
   "cell_type": "code",
   "execution_count": 2,
   "metadata": {},
   "outputs": [],
   "source": [
    "import openai\n",
    "import pandas as pd\n",
    "import numpy as np\n",
    "import pickle\n",
    "from transformers import GPT2TokenizerFast\n",
    "from typing import List\n",
    "\n",
    "#openai.api_key = \n",
    "openai_api_key='XXXX' ### API KEY\n",
    "openai_api_version ='2023-03-15-preview' ### Details from Azure\n",
    "deployment_name='XXXX'\n",
    "EMBEDDING_MODEL = \"text-embedding-ada-002\" ### Embedding Model"
   ]
  },
  {
   "cell_type": "code",
   "execution_count": 3,
   "metadata": {},
   "outputs": [],
   "source": [
    "from langchain.document_loaders import CSVLoader\n",
    "from langchain.chains import RetrievalQA\n",
    "from langchain.llms import AzureOpenAI\n",
    "loader = CSVLoader(file_path=r\"C:\\Users\\Desktop\\winequality-red.csv\")\n",
    "docs = loader.load()"
   ]
  },
  {
   "cell_type": "code",
   "execution_count": 4,
   "metadata": {},
   "outputs": [
    {
     "data": {
      "text/plain": [
       "[Document(page_content='fixed acidity: 7.4\\nvolatile acidity: 0.7\\ncitric acid: 0\\nresidual sugar: 1.9\\nchlorides: 0.076\\nfree sulfur dioxide: 11\\ntotal sulfur dioxide: 34\\ndensity: 0.9978\\npH: 3.51\\nsulphates: 0.56\\nalcohol: 9.4\\nquality: 5', metadata={'source': 'C:\\\\Users\\\\GhatkaP\\\\OneDrive - BASF\\\\Desktop\\\\winequality-red.csv', 'row': 0}),\n",
       " Document(page_content='fixed acidity: 7.8\\nvolatile acidity: 0.88\\ncitric acid: 0\\nresidual sugar: 2.6\\nchlorides: 0.098\\nfree sulfur dioxide: 25\\ntotal sulfur dioxide: 67\\ndensity: 0.9968\\npH: 3.2\\nsulphates: 0.68\\nalcohol: 9.8\\nquality: 5', metadata={'source': 'C:\\\\Users\\\\GhatkaP\\\\OneDrive - BASF\\\\Desktop\\\\winequality-red.csv', 'row': 1}),\n",
       " Document(page_content='fixed acidity: 7.8\\nvolatile acidity: 0.76\\ncitric acid: 0.04\\nresidual sugar: 2.3\\nchlorides: 0.092\\nfree sulfur dioxide: 15\\ntotal sulfur dioxide: 54\\ndensity: 0.997\\npH: 3.26\\nsulphates: 0.65\\nalcohol: 9.8\\nquality: 5', metadata={'source': 'C:\\\\Users\\\\GhatkaP\\\\OneDrive - BASF\\\\Desktop\\\\winequality-red.csv', 'row': 2}),\n",
       " Document(page_content='fixed acidity: 11.2\\nvolatile acidity: 0.28\\ncitric acid: 0.56\\nresidual sugar: 1.9\\nchlorides: 0.075\\nfree sulfur dioxide: 17\\ntotal sulfur dioxide: 60\\ndensity: 0.998\\npH: 3.16\\nsulphates: 0.58\\nalcohol: 9.8\\nquality: 6', metadata={'source': 'C:\\\\Users\\\\GhatkaP\\\\OneDrive - BASF\\\\Desktop\\\\winequality-red.csv', 'row': 3}),\n",
       " Document(page_content='fixed acidity: 7.4\\nvolatile acidity: 0.7\\ncitric acid: 0\\nresidual sugar: 1.9\\nchlorides: 0.076\\nfree sulfur dioxide: 11\\ntotal sulfur dioxide: 34\\ndensity: 0.9978\\npH: 3.51\\nsulphates: 0.56\\nalcohol: 9.4\\nquality: 5', metadata={'source': 'C:\\\\Users\\\\GhatkaP\\\\OneDrive - BASF\\\\Desktop\\\\winequality-red.csv', 'row': 4}),\n",
       " Document(page_content='fixed acidity: 7.4\\nvolatile acidity: 0.66\\ncitric acid: 0\\nresidual sugar: 1.8\\nchlorides: 0.075\\nfree sulfur dioxide: 13\\ntotal sulfur dioxide: 40\\ndensity: 0.9978\\npH: 3.51\\nsulphates: 0.56\\nalcohol: 9.4\\nquality: 5', metadata={'source': 'C:\\\\Users\\\\GhatkaP\\\\OneDrive - BASF\\\\Desktop\\\\winequality-red.csv', 'row': 5}),\n",
       " Document(page_content='fixed acidity: 7.9\\nvolatile acidity: 0.6\\ncitric acid: 0.06\\nresidual sugar: 1.6\\nchlorides: 0.069\\nfree sulfur dioxide: 15\\ntotal sulfur dioxide: 59\\ndensity: 0.9964\\npH: 3.3\\nsulphates: 0.46\\nalcohol: 9.4\\nquality: 5', metadata={'source': 'C:\\\\Users\\\\GhatkaP\\\\OneDrive - BASF\\\\Desktop\\\\winequality-red.csv', 'row': 6}),\n",
       " Document(page_content='fixed acidity: 7.3\\nvolatile acidity: 0.65\\ncitric acid: 0\\nresidual sugar: 1.2\\nchlorides: 0.065\\nfree sulfur dioxide: 15\\ntotal sulfur dioxide: 21\\ndensity: 0.9946\\npH: 3.39\\nsulphates: 0.47\\nalcohol: 10\\nquality: 7', metadata={'source': 'C:\\\\Users\\\\GhatkaP\\\\OneDrive - BASF\\\\Desktop\\\\winequality-red.csv', 'row': 7}),\n",
       " Document(page_content='fixed acidity: 7.8\\nvolatile acidity: 0.58\\ncitric acid: 0.02\\nresidual sugar: 2\\nchlorides: 0.073\\nfree sulfur dioxide: 9\\ntotal sulfur dioxide: 18\\ndensity: 0.9968\\npH: 3.36\\nsulphates: 0.57\\nalcohol: 9.5\\nquality: 7', metadata={'source': 'C:\\\\Users\\\\GhatkaP\\\\OneDrive - BASF\\\\Desktop\\\\winequality-red.csv', 'row': 8}),\n",
       " Document(page_content='fixed acidity: 7.5\\nvolatile acidity: 0.5\\ncitric acid: 0.36\\nresidual sugar: 6.1\\nchlorides: 0.071\\nfree sulfur dioxide: 17\\ntotal sulfur dioxide: 102\\ndensity: 0.9978\\npH: 3.35\\nsulphates: 0.8\\nalcohol: 10.5\\nquality: 5', metadata={'source': 'C:\\\\Users\\\\GhatkaP\\\\OneDrive - BASF\\\\Desktop\\\\winequality-red.csv', 'row': 9}),\n",
       " Document(page_content='fixed acidity: 6.7\\nvolatile acidity: 0.58\\ncitric acid: 0.08\\nresidual sugar: 1.8\\nchlorides: 0.097\\nfree sulfur dioxide: 15\\ntotal sulfur dioxide: 65\\ndensity: 0.9959\\npH: 3.28\\nsulphates: 0.54\\nalcohol: 9.2\\nquality: 5', metadata={'source': 'C:\\\\Users\\\\GhatkaP\\\\OneDrive - BASF\\\\Desktop\\\\winequality-red.csv', 'row': 10}),\n",
       " Document(page_content='fixed acidity: 7.5\\nvolatile acidity: 0.5\\ncitric acid: 0.36\\nresidual sugar: 6.1\\nchlorides: 0.071\\nfree sulfur dioxide: 17\\ntotal sulfur dioxide: 102\\ndensity: 0.9978\\npH: 3.35\\nsulphates: 0.8\\nalcohol: 10.5\\nquality: 5', metadata={'source': 'C:\\\\Users\\\\GhatkaP\\\\OneDrive - BASF\\\\Desktop\\\\winequality-red.csv', 'row': 11}),\n",
       " Document(page_content='fixed acidity: 5.6\\nvolatile acidity: 0.615\\ncitric acid: 0\\nresidual sugar: 1.6\\nchlorides: 0.089\\nfree sulfur dioxide: 16\\ntotal sulfur dioxide: 59\\ndensity: 0.9943\\npH: 3.58\\nsulphates: 0.52\\nalcohol: 9.9\\nquality: 5', metadata={'source': 'C:\\\\Users\\\\GhatkaP\\\\OneDrive - BASF\\\\Desktop\\\\winequality-red.csv', 'row': 12}),\n",
       " Document(page_content='fixed acidity: 7.8\\nvolatile acidity: 0.61\\ncitric acid: 0.29\\nresidual sugar: 1.6\\nchlorides: 0.114\\nfree sulfur dioxide: 9\\ntotal sulfur dioxide: 29\\ndensity: 0.9974\\npH: 3.26\\nsulphates: 1.56\\nalcohol: 9.1\\nquality: 5', metadata={'source': 'C:\\\\Users\\\\GhatkaP\\\\OneDrive - BASF\\\\Desktop\\\\winequality-red.csv', 'row': 13}),\n",
       " Document(page_content='fixed acidity: 8.9\\nvolatile acidity: 0.62\\ncitric acid: 0.18\\nresidual sugar: 3.8\\nchlorides: 0.176\\nfree sulfur dioxide: 52\\ntotal sulfur dioxide: 145\\ndensity: 0.9986\\npH: 3.16\\nsulphates: 0.88\\nalcohol: 9.2\\nquality: 5', metadata={'source': 'C:\\\\Users\\\\GhatkaP\\\\OneDrive - BASF\\\\Desktop\\\\winequality-red.csv', 'row': 14}),\n",
       " Document(page_content='fixed acidity: 8.9\\nvolatile acidity: 0.62\\ncitric acid: 0.19\\nresidual sugar: 3.9\\nchlorides: 0.17\\nfree sulfur dioxide: 51\\ntotal sulfur dioxide: 148\\ndensity: 0.9986\\npH: 3.17\\nsulphates: 0.93\\nalcohol: 9.2\\nquality: 5', metadata={'source': 'C:\\\\Users\\\\GhatkaP\\\\OneDrive - BASF\\\\Desktop\\\\winequality-red.csv', 'row': 15}),\n",
       " Document(page_content='fixed acidity: 8.5\\nvolatile acidity: 0.28\\ncitric acid: 0.56\\nresidual sugar: 1.8\\nchlorides: 0.092\\nfree sulfur dioxide: 35\\ntotal sulfur dioxide: 103\\ndensity: 0.9969\\npH: 3.3\\nsulphates: 0.75\\nalcohol: 10.5\\nquality: 7', metadata={'source': 'C:\\\\Users\\\\GhatkaP\\\\OneDrive - BASF\\\\Desktop\\\\winequality-red.csv', 'row': 16}),\n",
       " Document(page_content='fixed acidity: 8.1\\nvolatile acidity: 0.56\\ncitric acid: 0.28\\nresidual sugar: 1.7\\nchlorides: 0.368\\nfree sulfur dioxide: 16\\ntotal sulfur dioxide: 56\\ndensity: 0.9968\\npH: 3.11\\nsulphates: 1.28\\nalcohol: 9.3\\nquality: 5', metadata={'source': 'C:\\\\Users\\\\GhatkaP\\\\OneDrive - BASF\\\\Desktop\\\\winequality-red.csv', 'row': 17}),\n",
       " Document(page_content='fixed acidity: 7.4\\nvolatile acidity: 0.59\\ncitric acid: 0.08\\nresidual sugar: 4.4\\nchlorides: 0.086\\nfree sulfur dioxide: 6\\ntotal sulfur dioxide: 29\\ndensity: 0.9974\\npH: 3.38\\nsulphates: 0.5\\nalcohol: 9\\nquality: 4', metadata={'source': 'C:\\\\Users\\\\GhatkaP\\\\OneDrive - BASF\\\\Desktop\\\\winequality-red.csv', 'row': 18}),\n",
       " Document(page_content='fixed acidity: 7.9\\nvolatile acidity: 0.32\\ncitric acid: 0.51\\nresidual sugar: 1.8\\nchlorides: 0.341\\nfree sulfur dioxide: 17\\ntotal sulfur dioxide: 56\\ndensity: 0.9969\\npH: 3.04\\nsulphates: 1.08\\nalcohol: 9.2\\nquality: 6', metadata={'source': 'C:\\\\Users\\\\GhatkaP\\\\OneDrive - BASF\\\\Desktop\\\\winequality-red.csv', 'row': 19}),\n",
       " Document(page_content='fixed acidity: 8.9\\nvolatile acidity: 0.22\\ncitric acid: 0.48\\nresidual sugar: 1.8\\nchlorides: 0.077\\nfree sulfur dioxide: 29\\ntotal sulfur dioxide: 60\\ndensity: 0.9968\\npH: 3.39\\nsulphates: 0.53\\nalcohol: 9.4\\nquality: 6', metadata={'source': 'C:\\\\Users\\\\GhatkaP\\\\OneDrive - BASF\\\\Desktop\\\\winequality-red.csv', 'row': 20}),\n",
       " Document(page_content='fixed acidity: 7.6\\nvolatile acidity: 0.39\\ncitric acid: 0.31\\nresidual sugar: 2.3\\nchlorides: 0.082\\nfree sulfur dioxide: 23\\ntotal sulfur dioxide: 71\\ndensity: 0.9982\\npH: 3.52\\nsulphates: 0.65\\nalcohol: 9.7\\nquality: 5', metadata={'source': 'C:\\\\Users\\\\GhatkaP\\\\OneDrive - BASF\\\\Desktop\\\\winequality-red.csv', 'row': 21}),\n",
       " Document(page_content='fixed acidity: 7.9\\nvolatile acidity: 0.43\\ncitric acid: 0.21\\nresidual sugar: 1.6\\nchlorides: 0.106\\nfree sulfur dioxide: 10\\ntotal sulfur dioxide: 37\\ndensity: 0.9966\\npH: 3.17\\nsulphates: 0.91\\nalcohol: 9.5\\nquality: 5', metadata={'source': 'C:\\\\Users\\\\GhatkaP\\\\OneDrive - BASF\\\\Desktop\\\\winequality-red.csv', 'row': 22}),\n",
       " Document(page_content='fixed acidity: 8.5\\nvolatile acidity: 0.49\\ncitric acid: 0.11\\nresidual sugar: 2.3\\nchlorides: 0.084\\nfree sulfur dioxide: 9\\ntotal sulfur dioxide: 67\\ndensity: 0.9968\\npH: 3.17\\nsulphates: 0.53\\nalcohol: 9.4\\nquality: 5', metadata={'source': 'C:\\\\Users\\\\GhatkaP\\\\OneDrive - BASF\\\\Desktop\\\\winequality-red.csv', 'row': 23}),\n",
       " Document(page_content='fixed acidity: 6.9\\nvolatile acidity: 0.4\\ncitric acid: 0.14\\nresidual sugar: 2.4\\nchlorides: 0.085\\nfree sulfur dioxide: 21\\ntotal sulfur dioxide: 40\\ndensity: 0.9968\\npH: 3.43\\nsulphates: 0.63\\nalcohol: 9.7\\nquality: 6', metadata={'source': 'C:\\\\Users\\\\GhatkaP\\\\OneDrive - BASF\\\\Desktop\\\\winequality-red.csv', 'row': 24}),\n",
       " Document(page_content='fixed acidity: 6.3\\nvolatile acidity: 0.39\\ncitric acid: 0.16\\nresidual sugar: 1.4\\nchlorides: 0.08\\nfree sulfur dioxide: 11\\ntotal sulfur dioxide: 23\\ndensity: 0.9955\\npH: 3.34\\nsulphates: 0.56\\nalcohol: 9.3\\nquality: 5', metadata={'source': 'C:\\\\Users\\\\GhatkaP\\\\OneDrive - BASF\\\\Desktop\\\\winequality-red.csv', 'row': 25}),\n",
       " Document(page_content='fixed acidity: 7.6\\nvolatile acidity: 0.41\\ncitric acid: 0.24\\nresidual sugar: 1.8\\nchlorides: 0.08\\nfree sulfur dioxide: 4\\ntotal sulfur dioxide: 11\\ndensity: 0.9962\\npH: 3.28\\nsulphates: 0.59\\nalcohol: 9.5\\nquality: 5', metadata={'source': 'C:\\\\Users\\\\GhatkaP\\\\OneDrive - BASF\\\\Desktop\\\\winequality-red.csv', 'row': 26}),\n",
       " Document(page_content='fixed acidity: 7.9\\nvolatile acidity: 0.43\\ncitric acid: 0.21\\nresidual sugar: 1.6\\nchlorides: 0.106\\nfree sulfur dioxide: 10\\ntotal sulfur dioxide: 37\\ndensity: 0.9966\\npH: 3.17\\nsulphates: 0.91\\nalcohol: 9.5\\nquality: 5', metadata={'source': 'C:\\\\Users\\\\GhatkaP\\\\OneDrive - BASF\\\\Desktop\\\\winequality-red.csv', 'row': 27}),\n",
       " Document(page_content='fixed acidity: 7.1\\nvolatile acidity: 0.71\\ncitric acid: 0\\nresidual sugar: 1.9\\nchlorides: 0.08\\nfree sulfur dioxide: 14\\ntotal sulfur dioxide: 35\\ndensity: 0.9972\\npH: 3.47\\nsulphates: 0.55\\nalcohol: 9.4\\nquality: 5', metadata={'source': 'C:\\\\Users\\\\GhatkaP\\\\OneDrive - BASF\\\\Desktop\\\\winequality-red.csv', 'row': 28}),\n",
       " Document(page_content='fixed acidity: 7.8\\nvolatile acidity: 0.645\\ncitric acid: 0\\nresidual sugar: 2\\nchlorides: 0.082\\nfree sulfur dioxide: 8\\ntotal sulfur dioxide: 16\\ndensity: 0.9964\\npH: 3.38\\nsulphates: 0.59\\nalcohol: 9.8\\nquality: 6', metadata={'source': 'C:\\\\Users\\\\GhatkaP\\\\OneDrive - BASF\\\\Desktop\\\\winequality-red.csv', 'row': 29}),\n",
       " Document(page_content='fixed acidity: 6.7\\nvolatile acidity: 0.675\\ncitric acid: 0.07\\nresidual sugar: 2.4\\nchlorides: 0.089\\nfree sulfur dioxide: 17\\ntotal sulfur dioxide: 82\\ndensity: 0.9958\\npH: 3.35\\nsulphates: 0.54\\nalcohol: 10.1\\nquality: 5', metadata={'source': 'C:\\\\Users\\\\GhatkaP\\\\OneDrive - BASF\\\\Desktop\\\\winequality-red.csv', 'row': 30}),\n",
       " Document(page_content='fixed acidity: 6.9\\nvolatile acidity: 0.685\\ncitric acid: 0\\nresidual sugar: 2.5\\nchlorides: 0.105\\nfree sulfur dioxide: 22\\ntotal sulfur dioxide: 37\\ndensity: 0.9966\\npH: 3.46\\nsulphates: 0.57\\nalcohol: 10.6\\nquality: 6', metadata={'source': 'C:\\\\Users\\\\GhatkaP\\\\OneDrive - BASF\\\\Desktop\\\\winequality-red.csv', 'row': 31}),\n",
       " Document(page_content='fixed acidity: 8.3\\nvolatile acidity: 0.655\\ncitric acid: 0.12\\nresidual sugar: 2.3\\nchlorides: 0.083\\nfree sulfur dioxide: 15\\ntotal sulfur dioxide: 113\\ndensity: 0.9966\\npH: 3.17\\nsulphates: 0.66\\nalcohol: 9.8\\nquality: 5', metadata={'source': 'C:\\\\Users\\\\GhatkaP\\\\OneDrive - BASF\\\\Desktop\\\\winequality-red.csv', 'row': 32}),\n",
       " Document(page_content='fixed acidity: 6.9\\nvolatile acidity: 0.605\\ncitric acid: 0.12\\nresidual sugar: 10.7\\nchlorides: 0.073\\nfree sulfur dioxide: 40\\ntotal sulfur dioxide: 83\\ndensity: 0.9993\\npH: 3.45\\nsulphates: 0.52\\nalcohol: 9.4\\nquality: 6', metadata={'source': 'C:\\\\Users\\\\GhatkaP\\\\OneDrive - BASF\\\\Desktop\\\\winequality-red.csv', 'row': 33}),\n",
       " Document(page_content='fixed acidity: 5.2\\nvolatile acidity: 0.32\\ncitric acid: 0.25\\nresidual sugar: 1.8\\nchlorides: 0.103\\nfree sulfur dioxide: 13\\ntotal sulfur dioxide: 50\\ndensity: 0.9957\\npH: 3.38\\nsulphates: 0.55\\nalcohol: 9.2\\nquality: 5', metadata={'source': 'C:\\\\Users\\\\GhatkaP\\\\OneDrive - BASF\\\\Desktop\\\\winequality-red.csv', 'row': 34}),\n",
       " Document(page_content='fixed acidity: 7.8\\nvolatile acidity: 0.645\\ncitric acid: 0\\nresidual sugar: 5.5\\nchlorides: 0.086\\nfree sulfur dioxide: 5\\ntotal sulfur dioxide: 18\\ndensity: 0.9986\\npH: 3.4\\nsulphates: 0.55\\nalcohol: 9.6\\nquality: 6', metadata={'source': 'C:\\\\Users\\\\GhatkaP\\\\OneDrive - BASF\\\\Desktop\\\\winequality-red.csv', 'row': 35}),\n",
       " Document(page_content='fixed acidity: 7.8\\nvolatile acidity: 0.6\\ncitric acid: 0.14\\nresidual sugar: 2.4\\nchlorides: 0.086\\nfree sulfur dioxide: 3\\ntotal sulfur dioxide: 15\\ndensity: 0.9975\\npH: 3.42\\nsulphates: 0.6\\nalcohol: 10.8\\nquality: 6', metadata={'source': 'C:\\\\Users\\\\GhatkaP\\\\OneDrive - BASF\\\\Desktop\\\\winequality-red.csv', 'row': 36}),\n",
       " Document(page_content='fixed acidity: 8.1\\nvolatile acidity: 0.38\\ncitric acid: 0.28\\nresidual sugar: 2.1\\nchlorides: 0.066\\nfree sulfur dioxide: 13\\ntotal sulfur dioxide: 30\\ndensity: 0.9968\\npH: 3.23\\nsulphates: 0.73\\nalcohol: 9.7\\nquality: 7', metadata={'source': 'C:\\\\Users\\\\GhatkaP\\\\OneDrive - BASF\\\\Desktop\\\\winequality-red.csv', 'row': 37}),\n",
       " Document(page_content='fixed acidity: 5.7\\nvolatile acidity: 1.13\\ncitric acid: 0.09\\nresidual sugar: 1.5\\nchlorides: 0.172\\nfree sulfur dioxide: 7\\ntotal sulfur dioxide: 19\\ndensity: 0.994\\npH: 3.5\\nsulphates: 0.48\\nalcohol: 9.8\\nquality: 4', metadata={'source': 'C:\\\\Users\\\\GhatkaP\\\\OneDrive - BASF\\\\Desktop\\\\winequality-red.csv', 'row': 38}),\n",
       " Document(page_content='fixed acidity: 7.3\\nvolatile acidity: 0.45\\ncitric acid: 0.36\\nresidual sugar: 5.9\\nchlorides: 0.074\\nfree sulfur dioxide: 12\\ntotal sulfur dioxide: 87\\ndensity: 0.9978\\npH: 3.33\\nsulphates: 0.83\\nalcohol: 10.5\\nquality: 5', metadata={'source': 'C:\\\\Users\\\\GhatkaP\\\\OneDrive - BASF\\\\Desktop\\\\winequality-red.csv', 'row': 39}),\n",
       " Document(page_content='fixed acidity: 7.3\\nvolatile acidity: 0.45\\ncitric acid: 0.36\\nresidual sugar: 5.9\\nchlorides: 0.074\\nfree sulfur dioxide: 12\\ntotal sulfur dioxide: 87\\ndensity: 0.9978\\npH: 3.33\\nsulphates: 0.83\\nalcohol: 10.5\\nquality: 5', metadata={'source': 'C:\\\\Users\\\\GhatkaP\\\\OneDrive - BASF\\\\Desktop\\\\winequality-red.csv', 'row': 40}),\n",
       " Document(page_content='fixed acidity: 8.8\\nvolatile acidity: 0.61\\ncitric acid: 0.3\\nresidual sugar: 2.8\\nchlorides: 0.088\\nfree sulfur dioxide: 17\\ntotal sulfur dioxide: 46\\ndensity: 0.9976\\npH: 3.26\\nsulphates: 0.51\\nalcohol: 9.3\\nquality: 4', metadata={'source': 'C:\\\\Users\\\\GhatkaP\\\\OneDrive - BASF\\\\Desktop\\\\winequality-red.csv', 'row': 41}),\n",
       " Document(page_content='fixed acidity: 7.5\\nvolatile acidity: 0.49\\ncitric acid: 0.2\\nresidual sugar: 2.6\\nchlorides: 0.332\\nfree sulfur dioxide: 8\\ntotal sulfur dioxide: 14\\ndensity: 0.9968\\npH: 3.21\\nsulphates: 0.9\\nalcohol: 10.5\\nquality: 6', metadata={'source': 'C:\\\\Users\\\\GhatkaP\\\\OneDrive - BASF\\\\Desktop\\\\winequality-red.csv', 'row': 42}),\n",
       " Document(page_content='fixed acidity: 8.1\\nvolatile acidity: 0.66\\ncitric acid: 0.22\\nresidual sugar: 2.2\\nchlorides: 0.069\\nfree sulfur dioxide: 9\\ntotal sulfur dioxide: 23\\ndensity: 0.9968\\npH: 3.3\\nsulphates: 1.2\\nalcohol: 10.3\\nquality: 5', metadata={'source': 'C:\\\\Users\\\\GhatkaP\\\\OneDrive - BASF\\\\Desktop\\\\winequality-red.csv', 'row': 43}),\n",
       " Document(page_content='fixed acidity: 6.8\\nvolatile acidity: 0.67\\ncitric acid: 0.02\\nresidual sugar: 1.8\\nchlorides: 0.05\\nfree sulfur dioxide: 5\\ntotal sulfur dioxide: 11\\ndensity: 0.9962\\npH: 3.48\\nsulphates: 0.52\\nalcohol: 9.5\\nquality: 5', metadata={'source': 'C:\\\\Users\\\\GhatkaP\\\\OneDrive - BASF\\\\Desktop\\\\winequality-red.csv', 'row': 44}),\n",
       " Document(page_content='fixed acidity: 4.6\\nvolatile acidity: 0.52\\ncitric acid: 0.15\\nresidual sugar: 2.1\\nchlorides: 0.054\\nfree sulfur dioxide: 8\\ntotal sulfur dioxide: 65\\ndensity: 0.9934\\npH: 3.9\\nsulphates: 0.56\\nalcohol: 13.1\\nquality: 4', metadata={'source': 'C:\\\\Users\\\\GhatkaP\\\\OneDrive - BASF\\\\Desktop\\\\winequality-red.csv', 'row': 45}),\n",
       " Document(page_content='fixed acidity: 7.7\\nvolatile acidity: 0.935\\ncitric acid: 0.43\\nresidual sugar: 2.2\\nchlorides: 0.114\\nfree sulfur dioxide: 22\\ntotal sulfur dioxide: 114\\ndensity: 0.997\\npH: 3.25\\nsulphates: 0.73\\nalcohol: 9.2\\nquality: 5', metadata={'source': 'C:\\\\Users\\\\GhatkaP\\\\OneDrive - BASF\\\\Desktop\\\\winequality-red.csv', 'row': 46}),\n",
       " Document(page_content='fixed acidity: 8.7\\nvolatile acidity: 0.29\\ncitric acid: 0.52\\nresidual sugar: 1.6\\nchlorides: 0.113\\nfree sulfur dioxide: 12\\ntotal sulfur dioxide: 37\\ndensity: 0.9969\\npH: 3.25\\nsulphates: 0.58\\nalcohol: 9.5\\nquality: 5', metadata={'source': 'C:\\\\Users\\\\GhatkaP\\\\OneDrive - BASF\\\\Desktop\\\\winequality-red.csv', 'row': 47}),\n",
       " Document(page_content='fixed acidity: 6.4\\nvolatile acidity: 0.4\\ncitric acid: 0.23\\nresidual sugar: 1.6\\nchlorides: 0.066\\nfree sulfur dioxide: 5\\ntotal sulfur dioxide: 12\\ndensity: 0.9958\\npH: 3.34\\nsulphates: 0.56\\nalcohol: 9.2\\nquality: 5', metadata={'source': 'C:\\\\Users\\\\GhatkaP\\\\OneDrive - BASF\\\\Desktop\\\\winequality-red.csv', 'row': 48}),\n",
       " Document(page_content='fixed acidity: 5.6\\nvolatile acidity: 0.31\\ncitric acid: 0.37\\nresidual sugar: 1.4\\nchlorides: 0.074\\nfree sulfur dioxide: 12\\ntotal sulfur dioxide: 96\\ndensity: 0.9954\\npH: 3.32\\nsulphates: 0.58\\nalcohol: 9.2\\nquality: 5', metadata={'source': 'C:\\\\Users\\\\GhatkaP\\\\OneDrive - BASF\\\\Desktop\\\\winequality-red.csv', 'row': 49}),\n",
       " Document(page_content='fixed acidity: 8.8\\nvolatile acidity: 0.66\\ncitric acid: 0.26\\nresidual sugar: 1.7\\nchlorides: 0.074\\nfree sulfur dioxide: 4\\ntotal sulfur dioxide: 23\\ndensity: 0.9971\\npH: 3.15\\nsulphates: 0.74\\nalcohol: 9.2\\nquality: 5', metadata={'source': 'C:\\\\Users\\\\GhatkaP\\\\OneDrive - BASF\\\\Desktop\\\\winequality-red.csv', 'row': 50}),\n",
       " Document(page_content='fixed acidity: 6.6\\nvolatile acidity: 0.52\\ncitric acid: 0.04\\nresidual sugar: 2.2\\nchlorides: 0.069\\nfree sulfur dioxide: 8\\ntotal sulfur dioxide: 15\\ndensity: 0.9956\\npH: 3.4\\nsulphates: 0.63\\nalcohol: 9.4\\nquality: 6', metadata={'source': 'C:\\\\Users\\\\GhatkaP\\\\OneDrive - BASF\\\\Desktop\\\\winequality-red.csv', 'row': 51}),\n",
       " Document(page_content='fixed acidity: 6.6\\nvolatile acidity: 0.5\\ncitric acid: 0.04\\nresidual sugar: 2.1\\nchlorides: 0.068\\nfree sulfur dioxide: 6\\ntotal sulfur dioxide: 14\\ndensity: 0.9955\\npH: 3.39\\nsulphates: 0.64\\nalcohol: 9.4\\nquality: 6', metadata={'source': 'C:\\\\Users\\\\GhatkaP\\\\OneDrive - BASF\\\\Desktop\\\\winequality-red.csv', 'row': 52}),\n",
       " Document(page_content='fixed acidity: 8.6\\nvolatile acidity: 0.38\\ncitric acid: 0.36\\nresidual sugar: 3\\nchlorides: 0.081\\nfree sulfur dioxide: 30\\ntotal sulfur dioxide: 119\\ndensity: 0.997\\npH: 3.2\\nsulphates: 0.56\\nalcohol: 9.4\\nquality: 5', metadata={'source': 'C:\\\\Users\\\\GhatkaP\\\\OneDrive - BASF\\\\Desktop\\\\winequality-red.csv', 'row': 53}),\n",
       " Document(page_content='fixed acidity: 7.6\\nvolatile acidity: 0.51\\ncitric acid: 0.15\\nresidual sugar: 2.8\\nchlorides: 0.11\\nfree sulfur dioxide: 33\\ntotal sulfur dioxide: 73\\ndensity: 0.9955\\npH: 3.17\\nsulphates: 0.63\\nalcohol: 10.2\\nquality: 6', metadata={'source': 'C:\\\\Users\\\\GhatkaP\\\\OneDrive - BASF\\\\Desktop\\\\winequality-red.csv', 'row': 54}),\n",
       " Document(page_content='fixed acidity: 7.7\\nvolatile acidity: 0.62\\ncitric acid: 0.04\\nresidual sugar: 3.8\\nchlorides: 0.084\\nfree sulfur dioxide: 25\\ntotal sulfur dioxide: 45\\ndensity: 0.9978\\npH: 3.34\\nsulphates: 0.53\\nalcohol: 9.5\\nquality: 5', metadata={'source': 'C:\\\\Users\\\\GhatkaP\\\\OneDrive - BASF\\\\Desktop\\\\winequality-red.csv', 'row': 55}),\n",
       " Document(page_content='fixed acidity: 10.2\\nvolatile acidity: 0.42\\ncitric acid: 0.57\\nresidual sugar: 3.4\\nchlorides: 0.07\\nfree sulfur dioxide: 4\\ntotal sulfur dioxide: 10\\ndensity: 0.9971\\npH: 3.04\\nsulphates: 0.63\\nalcohol: 9.6\\nquality: 5', metadata={'source': 'C:\\\\Users\\\\GhatkaP\\\\OneDrive - BASF\\\\Desktop\\\\winequality-red.csv', 'row': 56}),\n",
       " Document(page_content='fixed acidity: 7.5\\nvolatile acidity: 0.63\\ncitric acid: 0.12\\nresidual sugar: 5.1\\nchlorides: 0.111\\nfree sulfur dioxide: 50\\ntotal sulfur dioxide: 110\\ndensity: 0.9983\\npH: 3.26\\nsulphates: 0.77\\nalcohol: 9.4\\nquality: 5', metadata={'source': 'C:\\\\Users\\\\GhatkaP\\\\OneDrive - BASF\\\\Desktop\\\\winequality-red.csv', 'row': 57}),\n",
       " Document(page_content='fixed acidity: 7.8\\nvolatile acidity: 0.59\\ncitric acid: 0.18\\nresidual sugar: 2.3\\nchlorides: 0.076\\nfree sulfur dioxide: 17\\ntotal sulfur dioxide: 54\\ndensity: 0.9975\\npH: 3.43\\nsulphates: 0.59\\nalcohol: 10\\nquality: 5', metadata={'source': 'C:\\\\Users\\\\GhatkaP\\\\OneDrive - BASF\\\\Desktop\\\\winequality-red.csv', 'row': 58}),\n",
       " Document(page_content='fixed acidity: 7.3\\nvolatile acidity: 0.39\\ncitric acid: 0.31\\nresidual sugar: 2.4\\nchlorides: 0.074\\nfree sulfur dioxide: 9\\ntotal sulfur dioxide: 46\\ndensity: 0.9962\\npH: 3.41\\nsulphates: 0.54\\nalcohol: 9.4\\nquality: 6', metadata={'source': 'C:\\\\Users\\\\GhatkaP\\\\OneDrive - BASF\\\\Desktop\\\\winequality-red.csv', 'row': 59}),\n",
       " Document(page_content='fixed acidity: 8.8\\nvolatile acidity: 0.4\\ncitric acid: 0.4\\nresidual sugar: 2.2\\nchlorides: 0.079\\nfree sulfur dioxide: 19\\ntotal sulfur dioxide: 52\\ndensity: 0.998\\npH: 3.44\\nsulphates: 0.64\\nalcohol: 9.2\\nquality: 5', metadata={'source': 'C:\\\\Users\\\\GhatkaP\\\\OneDrive - BASF\\\\Desktop\\\\winequality-red.csv', 'row': 60}),\n",
       " Document(page_content='fixed acidity: 7.7\\nvolatile acidity: 0.69\\ncitric acid: 0.49\\nresidual sugar: 1.8\\nchlorides: 0.115\\nfree sulfur dioxide: 20\\ntotal sulfur dioxide: 112\\ndensity: 0.9968\\npH: 3.21\\nsulphates: 0.71\\nalcohol: 9.3\\nquality: 5', metadata={'source': 'C:\\\\Users\\\\GhatkaP\\\\OneDrive - BASF\\\\Desktop\\\\winequality-red.csv', 'row': 61}),\n",
       " Document(page_content='fixed acidity: 7.5\\nvolatile acidity: 0.52\\ncitric acid: 0.16\\nresidual sugar: 1.9\\nchlorides: 0.085\\nfree sulfur dioxide: 12\\ntotal sulfur dioxide: 35\\ndensity: 0.9968\\npH: 3.38\\nsulphates: 0.62\\nalcohol: 9.5\\nquality: 7', metadata={'source': 'C:\\\\Users\\\\GhatkaP\\\\OneDrive - BASF\\\\Desktop\\\\winequality-red.csv', 'row': 62}),\n",
       " Document(page_content='fixed acidity: 7\\nvolatile acidity: 0.735\\ncitric acid: 0.05\\nresidual sugar: 2\\nchlorides: 0.081\\nfree sulfur dioxide: 13\\ntotal sulfur dioxide: 54\\ndensity: 0.9966\\npH: 3.39\\nsulphates: 0.57\\nalcohol: 9.8\\nquality: 5', metadata={'source': 'C:\\\\Users\\\\GhatkaP\\\\OneDrive - BASF\\\\Desktop\\\\winequality-red.csv', 'row': 63}),\n",
       " Document(page_content='fixed acidity: 7.2\\nvolatile acidity: 0.725\\ncitric acid: 0.05\\nresidual sugar: 4.65\\nchlorides: 0.086\\nfree sulfur dioxide: 4\\ntotal sulfur dioxide: 11\\ndensity: 0.9962\\npH: 3.41\\nsulphates: 0.39\\nalcohol: 10.9\\nquality: 5', metadata={'source': 'C:\\\\Users\\\\GhatkaP\\\\OneDrive - BASF\\\\Desktop\\\\winequality-red.csv', 'row': 64}),\n",
       " Document(page_content='fixed acidity: 7.2\\nvolatile acidity: 0.725\\ncitric acid: 0.05\\nresidual sugar: 4.65\\nchlorides: 0.086\\nfree sulfur dioxide: 4\\ntotal sulfur dioxide: 11\\ndensity: 0.9962\\npH: 3.41\\nsulphates: 0.39\\nalcohol: 10.9\\nquality: 5', metadata={'source': 'C:\\\\Users\\\\GhatkaP\\\\OneDrive - BASF\\\\Desktop\\\\winequality-red.csv', 'row': 65}),\n",
       " Document(page_content='fixed acidity: 7.5\\nvolatile acidity: 0.52\\ncitric acid: 0.11\\nresidual sugar: 1.5\\nchlorides: 0.079\\nfree sulfur dioxide: 11\\ntotal sulfur dioxide: 39\\ndensity: 0.9968\\npH: 3.42\\nsulphates: 0.58\\nalcohol: 9.6\\nquality: 5', metadata={'source': 'C:\\\\Users\\\\GhatkaP\\\\OneDrive - BASF\\\\Desktop\\\\winequality-red.csv', 'row': 66}),\n",
       " Document(page_content='fixed acidity: 6.6\\nvolatile acidity: 0.705\\ncitric acid: 0.07\\nresidual sugar: 1.6\\nchlorides: 0.076\\nfree sulfur dioxide: 6\\ntotal sulfur dioxide: 15\\ndensity: 0.9962\\npH: 3.44\\nsulphates: 0.58\\nalcohol: 10.7\\nquality: 5', metadata={'source': 'C:\\\\Users\\\\GhatkaP\\\\OneDrive - BASF\\\\Desktop\\\\winequality-red.csv', 'row': 67}),\n",
       " Document(page_content='fixed acidity: 9.3\\nvolatile acidity: 0.32\\ncitric acid: 0.57\\nresidual sugar: 2\\nchlorides: 0.074\\nfree sulfur dioxide: 27\\ntotal sulfur dioxide: 65\\ndensity: 0.9969\\npH: 3.28\\nsulphates: 0.79\\nalcohol: 10.7\\nquality: 5', metadata={'source': 'C:\\\\Users\\\\GhatkaP\\\\OneDrive - BASF\\\\Desktop\\\\winequality-red.csv', 'row': 68}),\n",
       " Document(page_content='fixed acidity: 8\\nvolatile acidity: 0.705\\ncitric acid: 0.05\\nresidual sugar: 1.9\\nchlorides: 0.074\\nfree sulfur dioxide: 8\\ntotal sulfur dioxide: 19\\ndensity: 0.9962\\npH: 3.34\\nsulphates: 0.95\\nalcohol: 10.5\\nquality: 6', metadata={'source': 'C:\\\\Users\\\\GhatkaP\\\\OneDrive - BASF\\\\Desktop\\\\winequality-red.csv', 'row': 69}),\n",
       " Document(page_content='fixed acidity: 7.7\\nvolatile acidity: 0.63\\ncitric acid: 0.08\\nresidual sugar: 1.9\\nchlorides: 0.076\\nfree sulfur dioxide: 15\\ntotal sulfur dioxide: 27\\ndensity: 0.9967\\npH: 3.32\\nsulphates: 0.54\\nalcohol: 9.5\\nquality: 6', metadata={'source': 'C:\\\\Users\\\\GhatkaP\\\\OneDrive - BASF\\\\Desktop\\\\winequality-red.csv', 'row': 70}),\n",
       " Document(page_content='fixed acidity: 7.7\\nvolatile acidity: 0.67\\ncitric acid: 0.23\\nresidual sugar: 2.1\\nchlorides: 0.088\\nfree sulfur dioxide: 17\\ntotal sulfur dioxide: 96\\ndensity: 0.9962\\npH: 3.32\\nsulphates: 0.48\\nalcohol: 9.5\\nquality: 5', metadata={'source': 'C:\\\\Users\\\\GhatkaP\\\\OneDrive - BASF\\\\Desktop\\\\winequality-red.csv', 'row': 71}),\n",
       " Document(page_content='fixed acidity: 7.7\\nvolatile acidity: 0.69\\ncitric acid: 0.22\\nresidual sugar: 1.9\\nchlorides: 0.084\\nfree sulfur dioxide: 18\\ntotal sulfur dioxide: 94\\ndensity: 0.9961\\npH: 3.31\\nsulphates: 0.48\\nalcohol: 9.5\\nquality: 5', metadata={'source': 'C:\\\\Users\\\\GhatkaP\\\\OneDrive - BASF\\\\Desktop\\\\winequality-red.csv', 'row': 72}),\n",
       " Document(page_content='fixed acidity: 8.3\\nvolatile acidity: 0.675\\ncitric acid: 0.26\\nresidual sugar: 2.1\\nchlorides: 0.084\\nfree sulfur dioxide: 11\\ntotal sulfur dioxide: 43\\ndensity: 0.9976\\npH: 3.31\\nsulphates: 0.53\\nalcohol: 9.2\\nquality: 4', metadata={'source': 'C:\\\\Users\\\\GhatkaP\\\\OneDrive - BASF\\\\Desktop\\\\winequality-red.csv', 'row': 73}),\n",
       " Document(page_content='fixed acidity: 9.7\\nvolatile acidity: 0.32\\ncitric acid: 0.54\\nresidual sugar: 2.5\\nchlorides: 0.094\\nfree sulfur dioxide: 28\\ntotal sulfur dioxide: 83\\ndensity: 0.9984\\npH: 3.28\\nsulphates: 0.82\\nalcohol: 9.6\\nquality: 5', metadata={'source': 'C:\\\\Users\\\\GhatkaP\\\\OneDrive - BASF\\\\Desktop\\\\winequality-red.csv', 'row': 74}),\n",
       " Document(page_content='fixed acidity: 8.8\\nvolatile acidity: 0.41\\ncitric acid: 0.64\\nresidual sugar: 2.2\\nchlorides: 0.093\\nfree sulfur dioxide: 9\\ntotal sulfur dioxide: 42\\ndensity: 0.9986\\npH: 3.54\\nsulphates: 0.66\\nalcohol: 10.5\\nquality: 5', metadata={'source': 'C:\\\\Users\\\\GhatkaP\\\\OneDrive - BASF\\\\Desktop\\\\winequality-red.csv', 'row': 75}),\n",
       " Document(page_content='fixed acidity: 8.8\\nvolatile acidity: 0.41\\ncitric acid: 0.64\\nresidual sugar: 2.2\\nchlorides: 0.093\\nfree sulfur dioxide: 9\\ntotal sulfur dioxide: 42\\ndensity: 0.9986\\npH: 3.54\\nsulphates: 0.66\\nalcohol: 10.5\\nquality: 5', metadata={'source': 'C:\\\\Users\\\\GhatkaP\\\\OneDrive - BASF\\\\Desktop\\\\winequality-red.csv', 'row': 76}),\n",
       " Document(page_content='fixed acidity: 6.8\\nvolatile acidity: 0.785\\ncitric acid: 0\\nresidual sugar: 2.4\\nchlorides: 0.104\\nfree sulfur dioxide: 14\\ntotal sulfur dioxide: 30\\ndensity: 0.9966\\npH: 3.52\\nsulphates: 0.55\\nalcohol: 10.7\\nquality: 6', metadata={'source': 'C:\\\\Users\\\\GhatkaP\\\\OneDrive - BASF\\\\Desktop\\\\winequality-red.csv', 'row': 77}),\n",
       " Document(page_content='fixed acidity: 6.7\\nvolatile acidity: 0.75\\ncitric acid: 0.12\\nresidual sugar: 2\\nchlorides: 0.086\\nfree sulfur dioxide: 12\\ntotal sulfur dioxide: 80\\ndensity: 0.9958\\npH: 3.38\\nsulphates: 0.52\\nalcohol: 10.1\\nquality: 5', metadata={'source': 'C:\\\\Users\\\\GhatkaP\\\\OneDrive - BASF\\\\Desktop\\\\winequality-red.csv', 'row': 78})]"
      ]
     },
     "execution_count": 4,
     "metadata": {},
     "output_type": "execute_result"
    }
   ],
   "source": [
    "from langchain.text_splitter import CharacterTextSplitter\n",
    "text_splitter = CharacterTextSplitter(chunk_size=800, chunk_overlap=1)\n",
    "texts = text_splitter.split_documents(docs)\n",
    "texts"
   ]
  },
  {
   "cell_type": "code",
   "execution_count": 5,
   "metadata": {},
   "outputs": [],
   "source": [
    "from langchain.embeddings import OpenAIEmbeddings\n",
    "from langchain.vectorstores import Chroma\n",
    "from langchain.chains import RetrievalQA\n",
    "from langchain.llms import AzureOpenAI\n",
    "\n",
    "embeddings = OpenAIEmbeddings(\n",
    "    openai_api_base= f\"XXXX\",\n",
    "    openai_api_type='azure',\n",
    "    deployment='XXXX',\n",
    "    openai_api_key=\"XXXX\",\n",
    "    chunk_size=1,\n",
    ")"
   ]
  },
  {
   "cell_type": "code",
   "execution_count": 6,
   "metadata": {},
   "outputs": [],
   "source": [
    "doc_search = Chroma.from_documents(texts,embeddings)"
   ]
  },
  {
   "cell_type": "code",
   "execution_count": 7,
   "metadata": {},
   "outputs": [],
   "source": [
    "import os\n",
    "os.environ[\"OPENAI_API_BASE\"] = \"XXXX\"\n",
    "os.environ[\"OPENAI_API_VERSION\"] = \"2023-03-15-preview\"\n",
    "os.environ[\"OPENAI_API_KEY\"] = \"XXXX\"\n",
    "os.environ[\"DEPLOYMENT_NAME\"] = \"gpt-35-turbo-US\""
   ]
  },
  {
   "cell_type": "code",
   "execution_count": 8,
   "metadata": {},
   "outputs": [],
   "source": [
    "# Import the necessary classes from the langchain library.\n",
    "from langchain.prompts import PromptTemplate\n",
    "from langchain.chat_models import AzureChatOpenAI\n",
    "\n",
    "# Define a prompt template. This is a format for the text input we'll give to our model.\n",
    "# It tells the model how to structure its response and what to do in different situations.\n",
    "template = \"\"\"I will provide you pieces of [Context] to answer the [Question]. \\\n",
    "If you don't know the answer based on [Context] just say that you don't know, don't try to make up an answer. \\\n",
    "[Context]: {context} \\\n",
    "[Question]: {question} \\\n",
    "Helpful Answer:\"\"\"\n",
    "\n",
    "QA_CHAIN_PROMPT = PromptTemplate.from_template(template)"
   ]
  },
  {
   "cell_type": "code",
   "execution_count": 9,
   "metadata": {},
   "outputs": [],
   "source": [
    "chain = RetrievalQA.from_chain_type(AzureChatOpenAI(openai_api_key=\"XXXX\", deployment_name=\"gpt-35-turbo-US\", model_name=\"gpt-35-turbo\",temperature=0),chain_type=\"stuff\",retriever = doc_search.as_retriever(),return_source_documents=True,chain_type_kwargs={\"prompt\": QA_CHAIN_PROMPT})"
   ]
  },
  {
   "cell_type": "code",
   "execution_count": 12,
   "metadata": {},
   "outputs": [
    {
     "name": "stdout",
     "output_type": "stream",
     "text": [
      "The columns in the document are: fixed acidity, volatile acidity, citric acid, residual sugar, chlorides, free sulfur dioxide, total sulfur dioxide, density, pH, sulphates, alcohol, and quality.\n"
     ]
    }
   ],
   "source": [
    "question = \"Name the columns in the document?\"\n",
    "\n",
    "# Ask our question to the qa_chain, and store the result.\n",
    "result = chain({\"query\": question})\n",
    "\n",
    "# Print out the result\n",
    "print(result[\"result\"])"
   ]
  },
  {
   "cell_type": "code",
   "execution_count": null,
   "metadata": {},
   "outputs": [],
   "source": []
  }
 ],
 "metadata": {
  "kernelspec": {
   "display_name": "mypython3.10",
   "language": "python",
   "name": "python3"
  },
  "language_info": {
   "codemirror_mode": {
    "name": "ipython",
    "version": 3
   },
   "file_extension": ".py",
   "mimetype": "text/x-python",
   "name": "python",
   "nbconvert_exporter": "python",
   "pygments_lexer": "ipython3",
   "version": "3.8.17"
  },
  "orig_nbformat": 4
 },
 "nbformat": 4,
 "nbformat_minor": 2
}
